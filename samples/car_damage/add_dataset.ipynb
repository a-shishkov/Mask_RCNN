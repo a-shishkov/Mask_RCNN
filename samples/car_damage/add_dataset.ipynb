{
 "cells": [
  {
   "cell_type": "code",
   "execution_count": 221,
   "metadata": {},
   "outputs": [
    {
     "name": "stdout",
     "output_type": "stream",
     "text": [
      "loading annotations into memory...\n",
      "Done (t=0.00s)\n",
      "creating index...\n",
      "index created!\n",
      "Images before 11\n",
      "Annotations before 24\n"
     ]
    }
   ],
   "source": [
    "from pycocotools.coco import COCO\n",
    "import json\n",
    "import os\n",
    "\n",
    "folder = 'val'\n",
    "\n",
    "dataDir='../../datasets/car_damage/'\n",
    "anotherDatasetDir = os.path.join(dataDir, f'another_dataset/{folder}/')\n",
    "newFilename = os.path.join(dataDir, folder, f'COCO_new_{folder}_annos.json')\n",
    "\n",
    "annoPath = os.path.join(dataDir, folder, f'COCO_{folder}_annos.json')\n",
    "annoFile = open(annoPath)\n",
    "coco = COCO(annoPath)\n",
    "data = json.load(annoFile)\n",
    "print('Images before', len(data['images']))\n",
    "print('Annotations before', len(data['annotations']))"
   ]
  },
  {
   "cell_type": "code",
   "execution_count": 222,
   "metadata": {},
   "outputs": [
    {
     "name": "stdout",
     "output_type": "stream",
     "text": [
      "{'coco_url': '', 'date_captured': '2020-07-14 09:59:34.190485', 'file_name': '1.jpg', 'flickr_url': '', 'height': 1024, 'id': 0, 'license': 1, 'width': 1024}\n",
      "{'area': 26268.00000000003, 'bbox': [364, 143, 190, 490], 'category_id': 1, 'id': 0, 'image_id': 0, 'iscrowd': 0, 'segmentation': [[454, 143, 388, 296, 364, 424, 375, 505, 422, 597, 495, 633, 516, 577, 554, 489, 539, 349, 550, 259, 539, 210, 521, 166, 495, 150]]}\n"
     ]
    }
   ],
   "source": [
    "import PIL.ImageDraw as ImageDraw\n",
    "import PIL.Image as Image\n",
    "import numpy as np\n",
    "\n",
    "coco_img = coco.loadImgs(0)[0]\n",
    "coco_anno = coco.loadAnns(0)[0]\n",
    "print(coco_img)\n",
    "print(coco_anno)\n",
    "polygon = np.array(coco_anno['segmentation'][0]).reshape((len(coco_anno['segmentation'][0])//2,2))\n",
    "polygon = tuple(map(tuple, polygon))\n",
    "\n",
    "image = Image.open(os.path.join(dataDir, folder, coco_img['file_name']))\n",
    "draw = ImageDraw.Draw(image)\n",
    "draw.polygon(polygon, fill=200)\n",
    "# image.show()"
   ]
  },
  {
   "cell_type": "code",
   "execution_count": 223,
   "metadata": {},
   "outputs": [],
   "source": [
    "from datetime import datetime\n",
    "\n",
    "now = datetime.now().strftime('%Y-%m-%d %H:%M:%S.%f')"
   ]
  },
  {
   "cell_type": "code",
   "execution_count": 224,
   "metadata": {},
   "outputs": [
    {
     "name": "stdout",
     "output_type": "stream",
     "text": [
      "10 23\n"
     ]
    }
   ],
   "source": [
    "f = open(os.path.join(anotherDatasetDir, 'via_region_data.json'))\n",
    "anotherData = json.load(f)\n",
    "\n",
    "anotherData.pop('test_pattern_qbist.jpg129855', None)\n",
    "anotherData.pop('a_swan_swimming_in_geneve_lake.jpg62201', None)\n",
    "anotherData.pop('sinus_test_pattern.jpg27894', None)\n",
    "\n",
    "lastImgId = coco.getImgIds()[-1]\n",
    "lastAnnoId = coco.getAnnIds()[-1]\n",
    "print(lastImgId, lastAnnoId)\n",
    "\n",
    "for key, value in anotherData.items():\n",
    "    lastImgId += 1\n",
    "\n",
    "    pilImage = Image.open(os.path.join(\n",
    "        anotherDatasetDir, value['filename']))\n",
    "    draw = ImageDraw.Draw(pilImage)\n",
    "    w, h = pilImage.size\n",
    "\n",
    "    image = {'coco_url': '', 'data_captured': now, 'file_name': value['filename'], 'flickr_url': '',\n",
    "            'height': h, 'id': lastImgId, 'license': 1, 'width': w}\n",
    "\n",
    "    for annoId in value['regions']:\n",
    "        lastAnnoId += 1\n",
    "        anno = value['regions'][annoId]['shape_attributes']\n",
    "        # print(anno)\n",
    "        segmentation = []\n",
    "\n",
    "        bbox = ((min(anno['all_points_x']), min(anno['all_points_y'])), (max(anno['all_points_x']), max(anno['all_points_y'])))\n",
    "        draw.rectangle(bbox)\n",
    "        bbox = [bbox[0][0], bbox[0][1], bbox[1][0]-bbox[0][0], bbox[1][1]-bbox[0][1]]\n",
    "        for pointId in range(len(anno['all_points_x'])):\n",
    "            x, y = anno['all_points_x'][pointId], anno['all_points_y'][pointId]\n",
    "            segmentation.append(x)\n",
    "            segmentation.append(y)\n",
    "\n",
    "        anno = {'area': -1, 'bbox': bbox, 'category_id': 1, 'id': lastAnnoId, 'image_id': lastImgId, 'iscrowd': 0, 'segmentation': [segmentation]}\n",
    "        data['annotations'].append(anno)\n",
    "        # draw.polygon(segmentation, fill=200)\n",
    "        # print(anno)\n",
    "\n",
    "    # print(image)\n",
    "    # pilImage.show()\n",
    "    data['images'].append(image)\n"
   ]
  },
  {
   "cell_type": "code",
   "execution_count": 225,
   "metadata": {},
   "outputs": [
    {
     "name": "stdout",
     "output_type": "stream",
     "text": [
      "loading annotations into memory...\n",
      "Done (t=0.01s)\n",
      "creating index...\n",
      "index created!\n"
     ]
    }
   ],
   "source": [
    "with open(newFilename, 'w') as outfile:\n",
    "    json.dump(data, outfile, sort_keys=True, indent=4)\n",
    "newCoco = COCO(newFilename)"
   ]
  },
  {
   "cell_type": "code",
   "execution_count": 226,
   "metadata": {},
   "outputs": [
    {
     "name": "stdout",
     "output_type": "stream",
     "text": [
      "Images after  26\n",
      "Annotations after 43\n"
     ]
    }
   ],
   "source": [
    "print('Images after ', len(newCoco.getImgIds()))\n",
    "print('Annotations after', len(newCoco.getAnnIds()))"
   ]
  }
 ],
 "metadata": {
  "interpreter": {
   "hash": "64b2a33f4de9faddc769bb379b3414a2b89fbdd9667e38c5ac978d1f6748df56"
  },
  "kernelspec": {
   "display_name": "Python 3.7.11 64-bit ('mask_rcnn_tf1_14_0': conda)",
   "language": "python",
   "name": "python3"
  },
  "language_info": {
   "codemirror_mode": {
    "name": "ipython",
    "version": 3
   },
   "file_extension": ".py",
   "mimetype": "text/x-python",
   "name": "python",
   "nbconvert_exporter": "python",
   "pygments_lexer": "ipython3",
   "version": "3.7.11"
  },
  "orig_nbformat": 4
 },
 "nbformat": 4,
 "nbformat_minor": 2
}
