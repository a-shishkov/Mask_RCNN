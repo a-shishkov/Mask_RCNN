{
 "cells": [
  {
   "cell_type": "code",
   "execution_count": 1,
   "metadata": {},
   "outputs": [],
   "source": [
    "import os\n",
    "import json\n",
    "\n",
    "ROOT_DIR = os.path.abspath(\"../../\")\n",
    "DATASET_DIR = os.path.join(ROOT_DIR, \"datasets/car_damage\")\n",
    "\n",
    "TRAIN_DIR = os.path.join(DATASET_DIR, \"train\")\n",
    "VAL_DIR = os.path.join(DATASET_DIR, \"val\")"
   ]
  },
  {
   "cell_type": "code",
   "execution_count": 7,
   "metadata": {},
   "outputs": [],
   "source": [
    "train_file = open(os.path.join(TRAIN_DIR, \"COCO_train_annos.json\"))\n",
    "train_anno = json.load(train_file)"
   ]
  },
  {
   "cell_type": "code",
   "execution_count": 11,
   "metadata": {},
   "outputs": [
    {
     "name": "stdout",
     "output_type": "stream",
     "text": [
      "dict_keys(['annotations', 'categories', 'images', 'info', 'licenses'])\n",
      "[{'coco_url': '', 'date_captured': '2020-07-14 09:59:34.190485', 'file_name': '10.jpg', 'flickr_url': '', 'height': 1024, 'id': 0, 'license': 1, 'width': 1024}, {'coco_url': '', 'date_captured': '2020-07-14 09:59:34.190485', 'file_name': '13.jpg', 'flickr_url': '', 'height': 1024, 'id': 1, 'license': 1, 'width': 1024}, {'coco_url': '', 'date_captured': '2020-07-14 09:59:34.190485', 'file_name': '14.jpg', 'flickr_url': '', 'height': 1024, 'id': 2, 'license': 1, 'width': 1024}, {'coco_url': '', 'date_captured': '2020-07-14 09:59:34.190485', 'file_name': '15.jpg', 'flickr_url': '', 'height': 1024, 'id': 3, 'license': 1, 'width': 1024}, {'coco_url': '', 'date_captured': '2020-07-14 09:59:34.190485', 'file_name': '16.jpg', 'flickr_url': '', 'height': 1024, 'id': 4, 'license': 1, 'width': 1024}, {'coco_url': '', 'date_captured': '2020-07-14 09:59:34.190485', 'file_name': '17.jpg', 'flickr_url': '', 'height': 1024, 'id': 5, 'license': 1, 'width': 1024}, {'coco_url': '', 'date_captured': '2020-07-14 09:59:34.190485', 'file_name': '18.jpg', 'flickr_url': '', 'height': 1024, 'id': 6, 'license': 1, 'width': 1024}, {'coco_url': '', 'date_captured': '2020-07-14 09:59:34.190485', 'file_name': '19.jpg', 'flickr_url': '', 'height': 1024, 'id': 7, 'license': 1, 'width': 1024}, {'coco_url': '', 'date_captured': '2020-07-14 09:59:34.190485', 'file_name': '2.jpg', 'flickr_url': '', 'height': 1024, 'id': 8, 'license': 1, 'width': 1024}, {'coco_url': '', 'date_captured': '2020-07-14 09:59:34.190485', 'file_name': '20.jpg', 'flickr_url': '', 'height': 1024, 'id': 9, 'license': 1, 'width': 1024}, {'coco_url': '', 'date_captured': '2020-07-14 09:59:34.190485', 'file_name': '21.jpg', 'flickr_url': '', 'height': 1024, 'id': 10, 'license': 1, 'width': 1024}, {'coco_url': '', 'date_captured': '2020-07-14 09:59:34.190485', 'file_name': '23.jpg', 'flickr_url': '', 'height': 1024, 'id': 11, 'license': 1, 'width': 1024}, {'coco_url': '', 'date_captured': '2020-07-14 09:59:34.190485', 'file_name': '25.jpg', 'flickr_url': '', 'height': 1024, 'id': 12, 'license': 1, 'width': 1024}, {'coco_url': '', 'date_captured': '2020-07-14 09:59:34.190485', 'file_name': '26.jpg', 'flickr_url': '', 'height': 1024, 'id': 13, 'license': 1, 'width': 1024}, {'coco_url': '', 'date_captured': '2020-07-14 09:59:34.190485', 'file_name': '27.jpg', 'flickr_url': '', 'height': 1024, 'id': 14, 'license': 1, 'width': 1024}, {'coco_url': '', 'date_captured': '2020-07-14 09:59:34.190485', 'file_name': '29.jpg', 'flickr_url': '', 'height': 1024, 'id': 15, 'license': 1, 'width': 1024}, {'coco_url': '', 'date_captured': '2020-07-14 09:59:34.190485', 'file_name': '30.jpg', 'flickr_url': '', 'height': 1024, 'id': 16, 'license': 1, 'width': 1024}, {'coco_url': '', 'date_captured': '2020-07-14 09:59:34.190485', 'file_name': '31.jpg', 'flickr_url': '', 'height': 1024, 'id': 17, 'license': 1, 'width': 1024}, {'coco_url': '', 'date_captured': '2020-07-14 09:59:34.190485', 'file_name': '33.jpg', 'flickr_url': '', 'height': 1024, 'id': 18, 'license': 1, 'width': 1024}, {'coco_url': '', 'date_captured': '2020-07-14 09:59:34.190485', 'file_name': '34.jpg', 'flickr_url': '', 'height': 1024, 'id': 19, 'license': 1, 'width': 1024}, {'coco_url': '', 'date_captured': '2020-07-14 09:59:34.190485', 'file_name': '36.jpg', 'flickr_url': '', 'height': 1024, 'id': 20, 'license': 1, 'width': 1024}, {'coco_url': '', 'date_captured': '2020-07-14 09:59:34.190485', 'file_name': '37.jpg', 'flickr_url': '', 'height': 1024, 'id': 21, 'license': 1, 'width': 1024}, {'coco_url': '', 'date_captured': '2020-07-14 09:59:34.190485', 'file_name': '38.jpg', 'flickr_url': '', 'height': 1024, 'id': 22, 'license': 1, 'width': 1024}, {'coco_url': '', 'date_captured': '2020-07-14 09:59:34.190485', 'file_name': '39.jpg', 'flickr_url': '', 'height': 1024, 'id': 23, 'license': 1, 'width': 1024}, {'coco_url': '', 'date_captured': '2020-07-14 09:59:34.190485', 'file_name': '4.jpg', 'flickr_url': '', 'height': 1024, 'id': 24, 'license': 1, 'width': 1024}, {'coco_url': '', 'date_captured': '2020-07-14 09:59:34.190485', 'file_name': '40.jpg', 'flickr_url': '', 'height': 1024, 'id': 25, 'license': 1, 'width': 1024}, {'coco_url': '', 'date_captured': '2020-07-14 09:59:34.190485', 'file_name': '41.jpg', 'flickr_url': '', 'height': 1024, 'id': 26, 'license': 1, 'width': 1024}, {'coco_url': '', 'date_captured': '2020-07-14 09:59:34.190485', 'file_name': '43.jpg', 'flickr_url': '', 'height': 1024, 'id': 27, 'license': 1, 'width': 1024}, {'coco_url': '', 'date_captured': '2020-07-14 09:59:34.190485', 'file_name': '44.jpg', 'flickr_url': '', 'height': 1024, 'id': 28, 'license': 1, 'width': 1024}, {'coco_url': '', 'date_captured': '2020-07-14 09:59:34.190485', 'file_name': '46.jpg', 'flickr_url': '', 'height': 1024, 'id': 29, 'license': 1, 'width': 1024}, {'coco_url': '', 'date_captured': '2020-07-14 09:59:34.190485', 'file_name': '47.jpg', 'flickr_url': '', 'height': 1024, 'id': 30, 'license': 1, 'width': 1024}, {'coco_url': '', 'date_captured': '2020-07-14 09:59:34.190485', 'file_name': '48.jpg', 'flickr_url': '', 'height': 1024, 'id': 31, 'license': 1, 'width': 1024}, {'coco_url': '', 'date_captured': '2020-07-14 09:59:34.190485', 'file_name': '49.jpg', 'flickr_url': '', 'height': 1024, 'id': 32, 'license': 1, 'width': 1024}, {'coco_url': '', 'date_captured': '2020-07-14 09:59:34.190485', 'file_name': '5.jpg', 'flickr_url': '', 'height': 1024, 'id': 33, 'license': 1, 'width': 1024}, {'coco_url': '', 'date_captured': '2020-07-14 09:59:34.190485', 'file_name': '50.jpg', 'flickr_url': '', 'height': 1024, 'id': 34, 'license': 1, 'width': 1024}, {'coco_url': '', 'date_captured': '2020-07-14 09:59:34.190485', 'file_name': '51.jpg', 'flickr_url': '', 'height': 1024, 'id': 35, 'license': 1, 'width': 1024}, {'coco_url': '', 'date_captured': '2020-07-14 09:59:34.190485', 'file_name': '52.jpg', 'flickr_url': '', 'height': 1024, 'id': 36, 'license': 1, 'width': 1024}, {'coco_url': '', 'date_captured': '2020-07-14 09:59:34.190485', 'file_name': '53.jpg', 'flickr_url': '', 'height': 1024, 'id': 37, 'license': 1, 'width': 1024}, {'coco_url': '', 'date_captured': '2020-07-14 09:59:34.190485', 'file_name': '54.jpg', 'flickr_url': '', 'height': 1024, 'id': 38, 'license': 1, 'width': 1024}, {'coco_url': '', 'date_captured': '2020-07-14 09:59:34.190485', 'file_name': '55.jpg', 'flickr_url': '', 'height': 1024, 'id': 39, 'license': 1, 'width': 1024}, {'coco_url': '', 'date_captured': '2020-07-14 09:59:34.190485', 'file_name': '56.jpg', 'flickr_url': '', 'height': 1024, 'id': 40, 'license': 1, 'width': 1024}, {'coco_url': '', 'date_captured': '2020-07-14 09:59:34.190485', 'file_name': '57.jpg', 'flickr_url': '', 'height': 1024, 'id': 41, 'license': 1, 'width': 1024}, {'coco_url': '', 'date_captured': '2020-07-14 09:59:34.190485', 'file_name': '58.jpg', 'flickr_url': '', 'height': 1024, 'id': 42, 'license': 1, 'width': 1024}, {'coco_url': '', 'date_captured': '2020-07-14 09:59:34.190485', 'file_name': '59.jpg', 'flickr_url': '', 'height': 1024, 'id': 43, 'license': 1, 'width': 1024}, {'coco_url': '', 'date_captured': '2020-07-14 09:59:34.190485', 'file_name': '6.jpg', 'flickr_url': '', 'height': 1024, 'id': 44, 'license': 1, 'width': 1024}, {'coco_url': '', 'date_captured': '2020-07-14 09:59:34.190485', 'file_name': '61.jpg', 'flickr_url': '', 'height': 1024, 'id': 45, 'license': 1, 'width': 1024}, {'coco_url': '', 'date_captured': '2020-07-14 09:59:34.190485', 'file_name': '63.jpg', 'flickr_url': '', 'height': 1024, 'id': 46, 'license': 1, 'width': 1024}, {'coco_url': '', 'date_captured': '2020-07-14 09:59:34.190485', 'file_name': '64.jpg', 'flickr_url': '', 'height': 1024, 'id': 47, 'license': 1, 'width': 1024}, {'coco_url': '', 'date_captured': '2020-07-14 09:59:34.190485', 'file_name': '68.jpg', 'flickr_url': '', 'height': 1024, 'id': 48, 'license': 1, 'width': 1024}, {'coco_url': '', 'date_captured': '2020-07-14 09:59:34.190485', 'file_name': '69.jpg', 'flickr_url': '', 'height': 1024, 'id': 49, 'license': 1, 'width': 1024}, {'coco_url': '', 'date_captured': '2020-07-14 09:59:34.190485', 'file_name': '7.jpg', 'flickr_url': '', 'height': 1024, 'id': 50, 'license': 1, 'width': 1024}, {'coco_url': '', 'date_captured': '2020-07-14 09:59:34.190485', 'file_name': '70.jpg', 'flickr_url': '', 'height': 1024, 'id': 51, 'license': 1, 'width': 1024}, {'coco_url': '', 'date_captured': '2020-07-14 09:59:34.190485', 'file_name': '71.jpg', 'flickr_url': '', 'height': 1024, 'id': 52, 'license': 1, 'width': 1024}, {'coco_url': '', 'date_captured': '2020-07-14 09:59:34.190485', 'file_name': '73.jpg', 'flickr_url': '', 'height': 1024, 'id': 53, 'license': 1, 'width': 1024}, {'coco_url': '', 'date_captured': '2020-07-14 09:59:34.190485', 'file_name': '75.jpg', 'flickr_url': '', 'height': 1024, 'id': 54, 'license': 1, 'width': 1024}, {'coco_url': '', 'date_captured': '2020-07-14 09:59:34.190485', 'file_name': '76.jpg', 'flickr_url': '', 'height': 1024, 'id': 55, 'license': 1, 'width': 1024}, {'coco_url': '', 'date_captured': '2020-07-14 09:59:34.190485', 'file_name': '77.jpg', 'flickr_url': '', 'height': 1024, 'id': 56, 'license': 1, 'width': 1024}, {'coco_url': '', 'date_captured': '2020-07-14 09:59:34.190485', 'file_name': '79.jpg', 'flickr_url': '', 'height': 1024, 'id': 57, 'license': 1, 'width': 1024}, {'coco_url': '', 'date_captured': '2020-07-14 09:59:34.190485', 'file_name': '80.jpg', 'flickr_url': '', 'height': 1024, 'id': 58, 'license': 1, 'width': 1024}]\n"
     ]
    }
   ],
   "source": [
    "type(train_anno)\n",
    "print(train_anno.keys())\n",
    "\n",
    "print(train_anno['images'])"
   ]
  }
 ],
 "metadata": {
  "interpreter": {
   "hash": "ded29fc7d6f3ebee1a75022247535bc2073361366229bdb6a34bfee6ff31ca04"
  },
  "kernelspec": {
   "display_name": "Python 3.7.11 64-bit ('mask_rcnn_tf1_14_0': conda)",
   "language": "python",
   "name": "python3"
  },
  "language_info": {
   "codemirror_mode": {
    "name": "ipython",
    "version": 3
   },
   "file_extension": ".py",
   "mimetype": "text/x-python",
   "name": "python",
   "nbconvert_exporter": "python",
   "pygments_lexer": "ipython3",
   "version": "3.7.11"
  },
  "orig_nbformat": 4
 },
 "nbformat": 4,
 "nbformat_minor": 2
}
